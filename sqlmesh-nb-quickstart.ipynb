{
 "cells": [
  {
   "cell_type": "code",
   "execution_count": 1,
   "metadata": {},
   "outputs": [],
   "source": [
    "from sqlmesh.magics import register_magics\n",
    "register_magics()"
   ]
  },
  {
   "cell_type": "code",
   "execution_count": 2,
   "metadata": {},
   "outputs": [
    {
     "data": {
      "text/plain": [
       "'SQLMesh project scaffold created'"
      ]
     },
     "metadata": {},
     "output_type": "display_data"
    }
   ],
   "source": [
    "%init /users/trey/tobiko/sqlmesh-example"
   ]
  },
  {
   "cell_type": "code",
   "execution_count": 3,
   "metadata": {},
   "outputs": [
    {
     "data": {
      "text/plain": [
       "'SQLMesh project context set'"
      ]
     },
     "metadata": {},
     "output_type": "display_data"
    }
   ],
   "source": [
    "%context /users/trey/tobiko/sqlmesh-example"
   ]
  },
  {
   "cell_type": "code",
   "execution_count": 4,
   "metadata": {},
   "outputs": [
    {
     "data": {
      "application/vnd.jupyter.widget-view+json": {
       "model_id": "e2e466d24c47429c8e3620089c08a920",
       "version_major": 2,
       "version_minor": 0
      },
      "text/plain": [
       "HTML(value='<span style=\"font-size: 11px; font-weight: bold; font-family: Menlo,\\'DejaVu Sans Mono\\',consolas,…"
      ]
     },
     "metadata": {},
     "output_type": "display_data"
    },
    {
     "data": {
      "text/html": [
       "<pre style=\"white-space:pre;overflow-x:auto;line-height:normal;font-family:Menlo,'DejaVu Sans Mono',consolas,'Courier New',monospace\"><span style=\"font-weight: bold\">New environment `prod` will be created from `prod`</span>\n",
       "</pre>\n"
      ],
      "text/plain": [
       "\u001b[1mNew environment `prod` will be created from `prod`\u001b[0m\n"
      ]
     },
     "metadata": {},
     "output_type": "display_data"
    },
    {
     "data": {
      "text/html": [
       "<pre style=\"white-space:pre;overflow-x:auto;line-height:normal;font-family:Menlo,'DejaVu Sans Mono',consolas,'Courier New',monospace\"><span style=\"font-weight: bold\">Summary of differences against `prod`:</span>\n",
       "└── <span style=\"color: #008000; text-decoration-color: #008000; font-weight: bold\">Added Models:</span>\n",
       "    ├── <span style=\"color: #008000; text-decoration-color: #008000\">sqlmesh_example.full_model</span>\n",
       "    ├── <span style=\"color: #008000; text-decoration-color: #008000\">sqlmesh_example.seed_model</span>\n",
       "    └── <span style=\"color: #008000; text-decoration-color: #008000\">sqlmesh_example.incremental_model</span>\n",
       "</pre>\n"
      ],
      "text/plain": [
       "\u001b[1mSummary of differences against `prod`:\u001b[0m\n",
       "└── \u001b[1;32mAdded Models:\u001b[0m\n",
       "    ├── \u001b[32msqlmesh_example.full_model\u001b[0m\n",
       "    ├── \u001b[32msqlmesh_example.seed_model\u001b[0m\n",
       "    └── \u001b[32msqlmesh_example.incremental_model\u001b[0m\n"
      ]
     },
     "metadata": {},
     "output_type": "display_data"
    },
    {
     "data": {
      "application/vnd.jupyter.widget-view+json": {
       "model_id": "f1d9b9b7a57a4b3dad38a9d5bb3a4b78",
       "version_major": 2,
       "version_minor": 0
      },
      "text/plain": [
       "VBox()"
      ]
     },
     "metadata": {},
     "output_type": "display_data"
    },
    {
     "data": {
      "application/vnd.jupyter.widget-view+json": {
       "model_id": "a726a9d6a0d6414fad123cda2e5f94fc",
       "version_major": 2,
       "version_minor": 0
      },
      "text/plain": [
       "Output()"
      ]
     },
     "metadata": {},
     "output_type": "display_data"
    },
    {
     "data": {
      "application/vnd.jupyter.widget-view+json": {
       "model_id": "9b167a55b0b04010a45d31718c3932d3",
       "version_major": 2,
       "version_minor": 0
      },
      "text/plain": [
       "Output()"
      ]
     },
     "metadata": {},
     "output_type": "display_data"
    }
   ],
   "source": [
    "%plan"
   ]
  },
  {
   "cell_type": "code",
   "execution_count": 5,
   "metadata": {},
   "outputs": [
    {
     "data": {
      "application/vnd.jupyter.widget-view+json": {
       "model_id": "4890ed6896734207af134f2c90c43bc8",
       "version_major": 2,
       "version_minor": 0
      },
      "text/plain": [
       "HTML(value='<span style=\"font-size: 11px; font-weight: bold; font-family: Menlo,\\'DejaVu Sans Mono\\',consolas,…"
      ]
     },
     "metadata": {},
     "output_type": "display_data"
    },
    {
     "data": {
      "text/html": [
       "<pre style=\"white-space:pre;overflow-x:auto;line-height:normal;font-family:Menlo,'DejaVu Sans Mono',consolas,'Courier New',monospace\"><span style=\"font-weight: bold\">New environment `dev` will be created from `prod`</span>\n",
       "</pre>\n"
      ],
      "text/plain": [
       "\u001b[1mNew environment `dev` will be created from `prod`\u001b[0m\n"
      ]
     },
     "metadata": {},
     "output_type": "display_data"
    },
    {
     "data": {
      "application/vnd.jupyter.widget-view+json": {
       "model_id": "a6c44322702442408551398813765b07",
       "version_major": 2,
       "version_minor": 0
      },
      "text/plain": [
       "VBox()"
      ]
     },
     "metadata": {},
     "output_type": "display_data"
    },
    {
     "data": {
      "application/vnd.jupyter.widget-view+json": {
       "model_id": "b6abb58171c34941ad9a2b767b375d7d",
       "version_major": 2,
       "version_minor": 0
      },
      "text/plain": [
       "Output()"
      ]
     },
     "metadata": {},
     "output_type": "display_data"
    }
   ],
   "source": [
    "%plan dev"
   ]
  },
  {
   "cell_type": "code",
   "execution_count": 8,
   "metadata": {},
   "outputs": [
    {
     "data": {
      "text/html": [
       "<pre style=\"white-space:pre;overflow-x:auto;line-height:normal;font-family:Menlo,'DejaVu Sans Mono',consolas,'Courier New',monospace\"><span style=\"color: #66d9ef; text-decoration-color: #66d9ef; background-color: #272822\">SELECT</span><span style=\"background-color: #272822\">                                                                                                             </span>\n",
       "<span style=\"color: #f8f8f2; text-decoration-color: #f8f8f2; background-color: #272822\">  </span><span style=\"color: #e6db74; text-decoration-color: #e6db74; background-color: #272822\">\"id\"</span><span style=\"color: #f8f8f2; text-decoration-color: #f8f8f2; background-color: #272822\"> </span><span style=\"color: #66d9ef; text-decoration-color: #66d9ef; background-color: #272822\">AS</span><span style=\"color: #f8f8f2; text-decoration-color: #f8f8f2; background-color: #272822\"> </span><span style=\"color: #e6db74; text-decoration-color: #e6db74; background-color: #272822\">\"id\"</span><span style=\"color: #f8f8f2; text-decoration-color: #f8f8f2; background-color: #272822\">,</span><span style=\"background-color: #272822\">                                                                                                    </span>\n",
       "<span style=\"color: #f8f8f2; text-decoration-color: #f8f8f2; background-color: #272822\">  </span><span style=\"color: #e6db74; text-decoration-color: #e6db74; background-color: #272822\">\"item_id\"</span><span style=\"color: #f8f8f2; text-decoration-color: #f8f8f2; background-color: #272822\"> </span><span style=\"color: #66d9ef; text-decoration-color: #66d9ef; background-color: #272822\">AS</span><span style=\"color: #f8f8f2; text-decoration-color: #f8f8f2; background-color: #272822\"> </span><span style=\"color: #e6db74; text-decoration-color: #e6db74; background-color: #272822\">\"item_id\"</span><span style=\"color: #f8f8f2; text-decoration-color: #f8f8f2; background-color: #272822\">,</span><span style=\"background-color: #272822\">                                                                                          </span>\n",
       "<span style=\"color: #f8f8f2; text-decoration-color: #f8f8f2; background-color: #272822\">  </span><span style=\"color: #e6db74; text-decoration-color: #e6db74; background-color: #272822\">'z'</span><span style=\"color: #f8f8f2; text-decoration-color: #f8f8f2; background-color: #272822\"> </span><span style=\"color: #66d9ef; text-decoration-color: #66d9ef; background-color: #272822\">AS</span><span style=\"color: #f8f8f2; text-decoration-color: #f8f8f2; background-color: #272822\"> </span><span style=\"color: #e6db74; text-decoration-color: #e6db74; background-color: #272822\">\"new_column\"</span><span style=\"color: #f8f8f2; text-decoration-color: #f8f8f2; background-color: #272822\">, </span><span style=\"color: #75715e; text-decoration-color: #75715e; background-color: #272822\">/* Added column */</span><span style=\"background-color: #272822\">                                                                          </span>\n",
       "<span style=\"color: #f8f8f2; text-decoration-color: #f8f8f2; background-color: #272822\">  </span><span style=\"color: #e6db74; text-decoration-color: #e6db74; background-color: #272822\">\"ds\"</span><span style=\"color: #f8f8f2; text-decoration-color: #f8f8f2; background-color: #272822\"> </span><span style=\"color: #66d9ef; text-decoration-color: #66d9ef; background-color: #272822\">AS</span><span style=\"color: #f8f8f2; text-decoration-color: #f8f8f2; background-color: #272822\"> </span><span style=\"color: #e6db74; text-decoration-color: #e6db74; background-color: #272822\">\"ds\"</span><span style=\"background-color: #272822\">                                                                                                     </span>\n",
       "<span style=\"color: #66d9ef; text-decoration-color: #66d9ef; background-color: #272822\">FROM</span><span style=\"color: #f8f8f2; text-decoration-color: #f8f8f2; background-color: #272822\"> </span><span style=\"color: #e6db74; text-decoration-color: #e6db74; background-color: #272822\">\"sqlmesh__sqlmesh_example\"</span><span style=\"color: #f8f8f2; text-decoration-color: #f8f8f2; background-color: #272822\">.</span><span style=\"color: #e6db74; text-decoration-color: #e6db74; background-color: #272822\">\"sqlmesh_example__seed_model__3609019599\"</span><span style=\"color: #f8f8f2; text-decoration-color: #f8f8f2; background-color: #272822\"> </span><span style=\"color: #66d9ef; text-decoration-color: #66d9ef; background-color: #272822\">AS</span><span style=\"color: #f8f8f2; text-decoration-color: #f8f8f2; background-color: #272822\"> </span><span style=\"color: #e6db74; text-decoration-color: #e6db74; background-color: #272822\">\"seed_model\"</span><span style=\"background-color: #272822\">                          </span>\n",
       "<span style=\"color: #66d9ef; text-decoration-color: #66d9ef; background-color: #272822\">WHERE</span><span style=\"background-color: #272822\">                                                                                                              </span>\n",
       "<span style=\"color: #f8f8f2; text-decoration-color: #f8f8f2; background-color: #272822\">  </span><span style=\"color: #e6db74; text-decoration-color: #e6db74; background-color: #272822\">\"ds\"</span><span style=\"color: #f8f8f2; text-decoration-color: #f8f8f2; background-color: #272822\"> </span><span style=\"color: #f92672; text-decoration-color: #f92672; background-color: #272822\">&lt;=</span><span style=\"color: #f8f8f2; text-decoration-color: #f8f8f2; background-color: #272822\"> </span><span style=\"color: #e6db74; text-decoration-color: #e6db74; background-color: #272822\">'1970-01-01'</span><span style=\"color: #f8f8f2; text-decoration-color: #f8f8f2; background-color: #272822\"> </span><span style=\"color: #66d9ef; text-decoration-color: #66d9ef; background-color: #272822\">AND</span><span style=\"color: #f8f8f2; text-decoration-color: #f8f8f2; background-color: #272822\"> </span><span style=\"color: #e6db74; text-decoration-color: #e6db74; background-color: #272822\">\"ds\"</span><span style=\"color: #f8f8f2; text-decoration-color: #f8f8f2; background-color: #272822\"> </span><span style=\"color: #f92672; text-decoration-color: #f92672; background-color: #272822\">&gt;=</span><span style=\"color: #f8f8f2; text-decoration-color: #f8f8f2; background-color: #272822\"> </span><span style=\"color: #e6db74; text-decoration-color: #e6db74; background-color: #272822\">'1970-01-01'</span><span style=\"background-color: #272822\">                                                                    </span>\n",
       "</pre>\n"
      ],
      "text/plain": [
       "\u001b[38;2;102;217;239;48;2;39;40;34mSELECT\u001b[0m\u001b[48;2;39;40;34m                                                                                                             \u001b[0m\n",
       "\u001b[38;2;248;248;242;48;2;39;40;34m  \u001b[0m\u001b[38;2;230;219;116;48;2;39;40;34m\"id\"\u001b[0m\u001b[38;2;248;248;242;48;2;39;40;34m \u001b[0m\u001b[38;2;102;217;239;48;2;39;40;34mAS\u001b[0m\u001b[38;2;248;248;242;48;2;39;40;34m \u001b[0m\u001b[38;2;230;219;116;48;2;39;40;34m\"id\"\u001b[0m\u001b[38;2;248;248;242;48;2;39;40;34m,\u001b[0m\u001b[48;2;39;40;34m                                                                                                    \u001b[0m\n",
       "\u001b[38;2;248;248;242;48;2;39;40;34m  \u001b[0m\u001b[38;2;230;219;116;48;2;39;40;34m\"item_id\"\u001b[0m\u001b[38;2;248;248;242;48;2;39;40;34m \u001b[0m\u001b[38;2;102;217;239;48;2;39;40;34mAS\u001b[0m\u001b[38;2;248;248;242;48;2;39;40;34m \u001b[0m\u001b[38;2;230;219;116;48;2;39;40;34m\"item_id\"\u001b[0m\u001b[38;2;248;248;242;48;2;39;40;34m,\u001b[0m\u001b[48;2;39;40;34m                                                                                          \u001b[0m\n",
       "\u001b[38;2;248;248;242;48;2;39;40;34m  \u001b[0m\u001b[38;2;230;219;116;48;2;39;40;34m'z'\u001b[0m\u001b[38;2;248;248;242;48;2;39;40;34m \u001b[0m\u001b[38;2;102;217;239;48;2;39;40;34mAS\u001b[0m\u001b[38;2;248;248;242;48;2;39;40;34m \u001b[0m\u001b[38;2;230;219;116;48;2;39;40;34m\"new_column\"\u001b[0m\u001b[38;2;248;248;242;48;2;39;40;34m,\u001b[0m\u001b[38;2;248;248;242;48;2;39;40;34m \u001b[0m\u001b[38;2;117;113;94;48;2;39;40;34m/*\u001b[0m\u001b[38;2;117;113;94;48;2;39;40;34m Added column \u001b[0m\u001b[38;2;117;113;94;48;2;39;40;34m*/\u001b[0m\u001b[48;2;39;40;34m                                                                          \u001b[0m\n",
       "\u001b[38;2;248;248;242;48;2;39;40;34m  \u001b[0m\u001b[38;2;230;219;116;48;2;39;40;34m\"ds\"\u001b[0m\u001b[38;2;248;248;242;48;2;39;40;34m \u001b[0m\u001b[38;2;102;217;239;48;2;39;40;34mAS\u001b[0m\u001b[38;2;248;248;242;48;2;39;40;34m \u001b[0m\u001b[38;2;230;219;116;48;2;39;40;34m\"ds\"\u001b[0m\u001b[48;2;39;40;34m                                                                                                     \u001b[0m\n",
       "\u001b[38;2;102;217;239;48;2;39;40;34mFROM\u001b[0m\u001b[38;2;248;248;242;48;2;39;40;34m \u001b[0m\u001b[38;2;230;219;116;48;2;39;40;34m\"sqlmesh__sqlmesh_example\"\u001b[0m\u001b[38;2;248;248;242;48;2;39;40;34m.\u001b[0m\u001b[38;2;230;219;116;48;2;39;40;34m\"sqlmesh_example__seed_model__3609019599\"\u001b[0m\u001b[38;2;248;248;242;48;2;39;40;34m \u001b[0m\u001b[38;2;102;217;239;48;2;39;40;34mAS\u001b[0m\u001b[38;2;248;248;242;48;2;39;40;34m \u001b[0m\u001b[38;2;230;219;116;48;2;39;40;34m\"seed_model\"\u001b[0m\u001b[48;2;39;40;34m                          \u001b[0m\n",
       "\u001b[38;2;102;217;239;48;2;39;40;34mWHERE\u001b[0m\u001b[48;2;39;40;34m                                                                                                              \u001b[0m\n",
       "\u001b[38;2;248;248;242;48;2;39;40;34m  \u001b[0m\u001b[38;2;230;219;116;48;2;39;40;34m\"ds\"\u001b[0m\u001b[38;2;248;248;242;48;2;39;40;34m \u001b[0m\u001b[38;2;249;38;114;48;2;39;40;34m<\u001b[0m\u001b[38;2;249;38;114;48;2;39;40;34m=\u001b[0m\u001b[38;2;248;248;242;48;2;39;40;34m \u001b[0m\u001b[38;2;230;219;116;48;2;39;40;34m'1970-01-01'\u001b[0m\u001b[38;2;248;248;242;48;2;39;40;34m \u001b[0m\u001b[38;2;102;217;239;48;2;39;40;34mAND\u001b[0m\u001b[38;2;248;248;242;48;2;39;40;34m \u001b[0m\u001b[38;2;230;219;116;48;2;39;40;34m\"ds\"\u001b[0m\u001b[38;2;248;248;242;48;2;39;40;34m \u001b[0m\u001b[38;2;249;38;114;48;2;39;40;34m>\u001b[0m\u001b[38;2;249;38;114;48;2;39;40;34m=\u001b[0m\u001b[38;2;248;248;242;48;2;39;40;34m \u001b[0m\u001b[38;2;230;219;116;48;2;39;40;34m'1970-01-01'\u001b[0m\u001b[48;2;39;40;34m                                                                    \u001b[0m\n"
      ]
     },
     "metadata": {},
     "output_type": "display_data"
    }
   ],
   "source": [
    "%%model sqlmesh_example.incremental_model\n",
    "MODEL (\n",
    "  name sqlmesh_example.incremental_model,\n",
    "  kind INCREMENTAL_BY_TIME_RANGE (\n",
    "    time_column (ds, '%Y-%m-%d')\n",
    "  ),\n",
    "  start '2020-01-01'\n",
    ");\n",
    "\n",
    "SELECT\n",
    "  id AS id,\n",
    "  item_id AS item_id,\n",
    "  'z' AS new_column, /* Added column */\n",
    "  ds AS ds\n",
    "FROM sqlmesh_example.seed_model\n",
    "WHERE\n",
    "  ds BETWEEN @start_ds AND @end_ds"
   ]
  },
  {
   "cell_type": "code",
   "execution_count": 9,
   "metadata": {},
   "outputs": [
    {
     "data": {
      "application/vnd.jupyter.widget-view+json": {
       "model_id": "c7f5b7505ae64a62b579fbccf6bf4347",
       "version_major": 2,
       "version_minor": 0
      },
      "text/plain": [
       "HTML(value='<span style=\"font-size: 11px; font-weight: bold; font-family: Menlo,\\'DejaVu Sans Mono\\',consolas,…"
      ]
     },
     "metadata": {},
     "output_type": "display_data"
    },
    {
     "data": {
      "text/html": [
       "<pre style=\"white-space:pre;overflow-x:auto;line-height:normal;font-family:Menlo,'DejaVu Sans Mono',consolas,'Courier New',monospace\"><span style=\"font-weight: bold\">Summary of differences against `dev`:</span>\n",
       "├── <span style=\"color: #800080; text-decoration-color: #800080; font-weight: bold\">Directly Modified:</span>\n",
       "│   └── <span style=\"color: #800080; text-decoration-color: #800080\">sqlmesh_example.incremental_model</span>\n",
       "└── <span style=\"color: #808000; text-decoration-color: #808000; font-weight: bold\">Indirectly Modified:</span>\n",
       "    └── <span style=\"color: #808000; text-decoration-color: #808000\">sqlmesh_example.full_model</span>\n",
       "</pre>\n"
      ],
      "text/plain": [
       "\u001b[1mSummary of differences against `dev`:\u001b[0m\n",
       "├── \u001b[1;35mDirectly Modified:\u001b[0m\n",
       "│   └── \u001b[35msqlmesh_example.incremental_model\u001b[0m\n",
       "└── \u001b[1;33mIndirectly Modified:\u001b[0m\n",
       "    └── \u001b[33msqlmesh_example.full_model\u001b[0m\n"
      ]
     },
     "metadata": {},
     "output_type": "display_data"
    },
    {
     "data": {
      "text/html": [
       "<pre style=\"white-space:pre;overflow-x:auto;line-height:normal;font-family:Menlo,'DejaVu Sans Mono',consolas,'Courier New',monospace\"><span style=\"color: #75715e; text-decoration-color: #75715e; background-color: #272822\">--- </span><span style=\"background-color: #272822\">                                                                                                               </span>\n",
       "<span style=\"background-color: #272822\">                                                                                                                   </span>\n",
       "<span style=\"color: #f92672; text-decoration-color: #f92672; background-color: #272822\">+++</span><span style=\"color: #f8f8f2; text-decoration-color: #f8f8f2; background-color: #272822\"> </span><span style=\"background-color: #272822\">                                                                                                               </span>\n",
       "<span style=\"background-color: #272822\">                                                                                                                   </span>\n",
       "<span style=\"color: #f92672; text-decoration-color: #f92672; background-color: #272822\">@@</span><span style=\"color: #f8f8f2; text-decoration-color: #f8f8f2; background-color: #272822\"> </span><span style=\"color: #f92672; text-decoration-color: #f92672; background-color: #272822\">-</span><span style=\"color: #ae81ff; text-decoration-color: #ae81ff; background-color: #272822\">1</span><span style=\"color: #f8f8f2; text-decoration-color: #f8f8f2; background-color: #272822\">,</span><span style=\"color: #ae81ff; text-decoration-color: #ae81ff; background-color: #272822\">7</span><span style=\"color: #f8f8f2; text-decoration-color: #f8f8f2; background-color: #272822\"> </span><span style=\"color: #f92672; text-decoration-color: #f92672; background-color: #272822\">+</span><span style=\"color: #ae81ff; text-decoration-color: #ae81ff; background-color: #272822\">1</span><span style=\"color: #f8f8f2; text-decoration-color: #f8f8f2; background-color: #272822\">,</span><span style=\"color: #ae81ff; text-decoration-color: #ae81ff; background-color: #272822\">8</span><span style=\"color: #f8f8f2; text-decoration-color: #f8f8f2; background-color: #272822\"> </span><span style=\"color: #f92672; text-decoration-color: #f92672; background-color: #272822\">@@</span><span style=\"background-color: #272822\">                                                                                                    </span>\n",
       "<span style=\"background-color: #272822\">                                                                                                                   </span>\n",
       "<span style=\"color: #f8f8f2; text-decoration-color: #f8f8f2; background-color: #272822\"> </span><span style=\"color: #66d9ef; text-decoration-color: #66d9ef; background-color: #272822\">SELECT</span><span style=\"background-color: #272822\">                                                                                                            </span>\n",
       "<span style=\"color: #f92672; text-decoration-color: #f92672; background-color: #272822\">-</span><span style=\"color: #f8f8f2; text-decoration-color: #f8f8f2; background-color: #272822\">  id,</span><span style=\"background-color: #272822\">                                                                                                             </span>\n",
       "<span style=\"color: #f92672; text-decoration-color: #f92672; background-color: #272822\">-</span><span style=\"color: #f8f8f2; text-decoration-color: #f8f8f2; background-color: #272822\">  item_id,</span><span style=\"background-color: #272822\">                                                                                                        </span>\n",
       "<span style=\"color: #f92672; text-decoration-color: #f92672; background-color: #272822\">-</span><span style=\"color: #f8f8f2; text-decoration-color: #f8f8f2; background-color: #272822\">  ds</span><span style=\"background-color: #272822\">                                                                                                              </span>\n",
       "<span style=\"color: #f92672; text-decoration-color: #f92672; background-color: #272822\">+</span><span style=\"color: #f8f8f2; text-decoration-color: #f8f8f2; background-color: #272822\">  id </span><span style=\"color: #66d9ef; text-decoration-color: #66d9ef; background-color: #272822\">AS</span><span style=\"color: #f8f8f2; text-decoration-color: #f8f8f2; background-color: #272822\"> id,</span><span style=\"background-color: #272822\">                                                                                                       </span>\n",
       "<span style=\"color: #f92672; text-decoration-color: #f92672; background-color: #272822\">+</span><span style=\"color: #f8f8f2; text-decoration-color: #f8f8f2; background-color: #272822\">  item_id </span><span style=\"color: #66d9ef; text-decoration-color: #66d9ef; background-color: #272822\">AS</span><span style=\"color: #f8f8f2; text-decoration-color: #f8f8f2; background-color: #272822\"> item_id,</span><span style=\"background-color: #272822\">                                                                                             </span>\n",
       "<span style=\"color: #f92672; text-decoration-color: #f92672; background-color: #272822\">+</span><span style=\"color: #f8f8f2; text-decoration-color: #f8f8f2; background-color: #272822\">  </span><span style=\"color: #e6db74; text-decoration-color: #e6db74; background-color: #272822\">'z'</span><span style=\"color: #f8f8f2; text-decoration-color: #f8f8f2; background-color: #272822\"> </span><span style=\"color: #66d9ef; text-decoration-color: #66d9ef; background-color: #272822\">AS</span><span style=\"color: #f8f8f2; text-decoration-color: #f8f8f2; background-color: #272822\"> new_column,</span><span style=\"background-color: #272822\">                                                                                              </span>\n",
       "<span style=\"color: #f92672; text-decoration-color: #f92672; background-color: #272822\">+</span><span style=\"color: #f8f8f2; text-decoration-color: #f8f8f2; background-color: #272822\">  ds </span><span style=\"color: #66d9ef; text-decoration-color: #66d9ef; background-color: #272822\">AS</span><span style=\"color: #f8f8f2; text-decoration-color: #f8f8f2; background-color: #272822\"> ds</span><span style=\"background-color: #272822\">                                                                                                        </span>\n",
       "<span style=\"color: #f8f8f2; text-decoration-color: #f8f8f2; background-color: #272822\"> </span><span style=\"color: #66d9ef; text-decoration-color: #66d9ef; background-color: #272822\">FROM</span><span style=\"color: #f8f8f2; text-decoration-color: #f8f8f2; background-color: #272822\"> sqlmesh_example.seed_model</span><span style=\"background-color: #272822\">                                                                                   </span>\n",
       "<span style=\"color: #f8f8f2; text-decoration-color: #f8f8f2; background-color: #272822\"> </span><span style=\"color: #66d9ef; text-decoration-color: #66d9ef; background-color: #272822\">WHERE</span><span style=\"background-color: #272822\">                                                                                                             </span>\n",
       "<span style=\"color: #f8f8f2; text-decoration-color: #f8f8f2; background-color: #272822\">   ds </span><span style=\"color: #66d9ef; text-decoration-color: #66d9ef; background-color: #272822\">BETWEEN</span><span style=\"color: #f8f8f2; text-decoration-color: #f8f8f2; background-color: #272822\"> </span><span style=\"color: #f92672; text-decoration-color: #f92672; background-color: #272822\">@</span><span style=\"color: #f8f8f2; text-decoration-color: #f8f8f2; background-color: #272822\">start_ds </span><span style=\"color: #66d9ef; text-decoration-color: #66d9ef; background-color: #272822\">AND</span><span style=\"color: #f8f8f2; text-decoration-color: #f8f8f2; background-color: #272822\"> </span><span style=\"color: #f92672; text-decoration-color: #f92672; background-color: #272822\">@</span><span style=\"color: #f8f8f2; text-decoration-color: #f8f8f2; background-color: #272822\">end_ds</span><span style=\"background-color: #272822\">                                                                                </span>\n",
       "</pre>\n"
      ],
      "text/plain": [
       "\u001b[38;2;117;113;94;48;2;39;40;34m--- \u001b[0m\u001b[48;2;39;40;34m                                                                                                               \u001b[0m\n",
       "\u001b[48;2;39;40;34m                                                                                                                   \u001b[0m\n",
       "\u001b[38;2;249;38;114;48;2;39;40;34m+\u001b[0m\u001b[38;2;249;38;114;48;2;39;40;34m+\u001b[0m\u001b[38;2;249;38;114;48;2;39;40;34m+\u001b[0m\u001b[38;2;248;248;242;48;2;39;40;34m \u001b[0m\u001b[48;2;39;40;34m                                                                                                               \u001b[0m\n",
       "\u001b[48;2;39;40;34m                                                                                                                   \u001b[0m\n",
       "\u001b[38;2;249;38;114;48;2;39;40;34m@\u001b[0m\u001b[38;2;249;38;114;48;2;39;40;34m@\u001b[0m\u001b[38;2;248;248;242;48;2;39;40;34m \u001b[0m\u001b[38;2;249;38;114;48;2;39;40;34m-\u001b[0m\u001b[38;2;174;129;255;48;2;39;40;34m1\u001b[0m\u001b[38;2;248;248;242;48;2;39;40;34m,\u001b[0m\u001b[38;2;174;129;255;48;2;39;40;34m7\u001b[0m\u001b[38;2;248;248;242;48;2;39;40;34m \u001b[0m\u001b[38;2;249;38;114;48;2;39;40;34m+\u001b[0m\u001b[38;2;174;129;255;48;2;39;40;34m1\u001b[0m\u001b[38;2;248;248;242;48;2;39;40;34m,\u001b[0m\u001b[38;2;174;129;255;48;2;39;40;34m8\u001b[0m\u001b[38;2;248;248;242;48;2;39;40;34m \u001b[0m\u001b[38;2;249;38;114;48;2;39;40;34m@\u001b[0m\u001b[38;2;249;38;114;48;2;39;40;34m@\u001b[0m\u001b[48;2;39;40;34m                                                                                                    \u001b[0m\n",
       "\u001b[48;2;39;40;34m                                                                                                                   \u001b[0m\n",
       "\u001b[38;2;248;248;242;48;2;39;40;34m \u001b[0m\u001b[38;2;102;217;239;48;2;39;40;34mSELECT\u001b[0m\u001b[48;2;39;40;34m                                                                                                            \u001b[0m\n",
       "\u001b[38;2;249;38;114;48;2;39;40;34m-\u001b[0m\u001b[38;2;248;248;242;48;2;39;40;34m  \u001b[0m\u001b[38;2;248;248;242;48;2;39;40;34mid\u001b[0m\u001b[38;2;248;248;242;48;2;39;40;34m,\u001b[0m\u001b[48;2;39;40;34m                                                                                                             \u001b[0m\n",
       "\u001b[38;2;249;38;114;48;2;39;40;34m-\u001b[0m\u001b[38;2;248;248;242;48;2;39;40;34m  \u001b[0m\u001b[38;2;248;248;242;48;2;39;40;34mitem_id\u001b[0m\u001b[38;2;248;248;242;48;2;39;40;34m,\u001b[0m\u001b[48;2;39;40;34m                                                                                                        \u001b[0m\n",
       "\u001b[38;2;249;38;114;48;2;39;40;34m-\u001b[0m\u001b[38;2;248;248;242;48;2;39;40;34m  \u001b[0m\u001b[38;2;248;248;242;48;2;39;40;34mds\u001b[0m\u001b[48;2;39;40;34m                                                                                                              \u001b[0m\n",
       "\u001b[38;2;249;38;114;48;2;39;40;34m+\u001b[0m\u001b[38;2;248;248;242;48;2;39;40;34m  \u001b[0m\u001b[38;2;248;248;242;48;2;39;40;34mid\u001b[0m\u001b[38;2;248;248;242;48;2;39;40;34m \u001b[0m\u001b[38;2;102;217;239;48;2;39;40;34mAS\u001b[0m\u001b[38;2;248;248;242;48;2;39;40;34m \u001b[0m\u001b[38;2;248;248;242;48;2;39;40;34mid\u001b[0m\u001b[38;2;248;248;242;48;2;39;40;34m,\u001b[0m\u001b[48;2;39;40;34m                                                                                                       \u001b[0m\n",
       "\u001b[38;2;249;38;114;48;2;39;40;34m+\u001b[0m\u001b[38;2;248;248;242;48;2;39;40;34m  \u001b[0m\u001b[38;2;248;248;242;48;2;39;40;34mitem_id\u001b[0m\u001b[38;2;248;248;242;48;2;39;40;34m \u001b[0m\u001b[38;2;102;217;239;48;2;39;40;34mAS\u001b[0m\u001b[38;2;248;248;242;48;2;39;40;34m \u001b[0m\u001b[38;2;248;248;242;48;2;39;40;34mitem_id\u001b[0m\u001b[38;2;248;248;242;48;2;39;40;34m,\u001b[0m\u001b[48;2;39;40;34m                                                                                             \u001b[0m\n",
       "\u001b[38;2;249;38;114;48;2;39;40;34m+\u001b[0m\u001b[38;2;248;248;242;48;2;39;40;34m  \u001b[0m\u001b[38;2;230;219;116;48;2;39;40;34m'z'\u001b[0m\u001b[38;2;248;248;242;48;2;39;40;34m \u001b[0m\u001b[38;2;102;217;239;48;2;39;40;34mAS\u001b[0m\u001b[38;2;248;248;242;48;2;39;40;34m \u001b[0m\u001b[38;2;248;248;242;48;2;39;40;34mnew_column\u001b[0m\u001b[38;2;248;248;242;48;2;39;40;34m,\u001b[0m\u001b[48;2;39;40;34m                                                                                              \u001b[0m\n",
       "\u001b[38;2;249;38;114;48;2;39;40;34m+\u001b[0m\u001b[38;2;248;248;242;48;2;39;40;34m  \u001b[0m\u001b[38;2;248;248;242;48;2;39;40;34mds\u001b[0m\u001b[38;2;248;248;242;48;2;39;40;34m \u001b[0m\u001b[38;2;102;217;239;48;2;39;40;34mAS\u001b[0m\u001b[38;2;248;248;242;48;2;39;40;34m \u001b[0m\u001b[38;2;248;248;242;48;2;39;40;34mds\u001b[0m\u001b[48;2;39;40;34m                                                                                                        \u001b[0m\n",
       "\u001b[38;2;248;248;242;48;2;39;40;34m \u001b[0m\u001b[38;2;102;217;239;48;2;39;40;34mFROM\u001b[0m\u001b[38;2;248;248;242;48;2;39;40;34m \u001b[0m\u001b[38;2;248;248;242;48;2;39;40;34msqlmesh_example\u001b[0m\u001b[38;2;248;248;242;48;2;39;40;34m.\u001b[0m\u001b[38;2;248;248;242;48;2;39;40;34mseed_model\u001b[0m\u001b[48;2;39;40;34m                                                                                   \u001b[0m\n",
       "\u001b[38;2;248;248;242;48;2;39;40;34m \u001b[0m\u001b[38;2;102;217;239;48;2;39;40;34mWHERE\u001b[0m\u001b[48;2;39;40;34m                                                                                                             \u001b[0m\n",
       "\u001b[38;2;248;248;242;48;2;39;40;34m   \u001b[0m\u001b[38;2;248;248;242;48;2;39;40;34mds\u001b[0m\u001b[38;2;248;248;242;48;2;39;40;34m \u001b[0m\u001b[38;2;102;217;239;48;2;39;40;34mBETWEEN\u001b[0m\u001b[38;2;248;248;242;48;2;39;40;34m \u001b[0m\u001b[38;2;249;38;114;48;2;39;40;34m@\u001b[0m\u001b[38;2;248;248;242;48;2;39;40;34mstart_ds\u001b[0m\u001b[38;2;248;248;242;48;2;39;40;34m \u001b[0m\u001b[38;2;102;217;239;48;2;39;40;34mAND\u001b[0m\u001b[38;2;248;248;242;48;2;39;40;34m \u001b[0m\u001b[38;2;249;38;114;48;2;39;40;34m@\u001b[0m\u001b[38;2;248;248;242;48;2;39;40;34mend_ds\u001b[0m\u001b[48;2;39;40;34m                                                                                \u001b[0m\n"
      ]
     },
     "metadata": {},
     "output_type": "display_data"
    },
    {
     "data": {
      "text/html": [
       "<pre style=\"white-space:pre;overflow-x:auto;line-height:normal;font-family:Menlo,'DejaVu Sans Mono',consolas,'Courier New',monospace\"><span style=\"color: #800080; text-decoration-color: #800080; font-weight: bold\">Directly Modified: sqlmesh_example.incremental_model (Non-breaking)</span>\n",
       "└── <span style=\"color: #808000; text-decoration-color: #808000\">Indirectly Modified Children:</span>\n",
       "    └── <span style=\"color: #808000; text-decoration-color: #808000\">sqlmesh_example.full_model</span>\n",
       "</pre>\n"
      ],
      "text/plain": [
       "\u001b[1;35mDirectly Modified: sqlmesh_example.incremental_model (Non-breaking)\u001b[0m\n",
       "└── \u001b[33mIndirectly Modified Children:\u001b[0m\n",
       "    └── \u001b[33msqlmesh_example.full_model\u001b[0m\n"
      ]
     },
     "metadata": {},
     "output_type": "display_data"
    },
    {
     "data": {
      "application/vnd.jupyter.widget-view+json": {
       "model_id": "6ca59db5f9e646d0914e60937b5cfdff",
       "version_major": 2,
       "version_minor": 0
      },
      "text/plain": [
       "VBox()"
      ]
     },
     "metadata": {},
     "output_type": "display_data"
    }
   ],
   "source": [
    "%plan dev"
   ]
  }
 ],
 "metadata": {
  "kernelspec": {
   "display_name": ".venv",
   "language": "python",
   "name": "python3"
  },
  "language_info": {
   "codemirror_mode": {
    "name": "ipython",
    "version": 3
   },
   "file_extension": ".py",
   "mimetype": "text/x-python",
   "name": "python",
   "nbconvert_exporter": "python",
   "pygments_lexer": "ipython3",
   "version": "3.11.4"
  },
  "orig_nbformat": 4
 },
 "nbformat": 4,
 "nbformat_minor": 2
}
